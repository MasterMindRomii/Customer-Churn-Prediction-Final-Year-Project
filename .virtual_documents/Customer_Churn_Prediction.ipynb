


import numpy as np
import pandas as pd
import seaborn as sns
import matplotlib.ticker as mtick
import matplotlib.pyplot as plt
%matplotlib inline
import plotly.express as px





telco_base_data = pd.read_csv('Customer_Churn_Data.csv')
telco_base_data.head()





# Shape of the dataset
telco_base_data.shape


# Column names
telco_base_data.columns.values


# Checking data types of all columns
telco_base_data.dtypes


# Descriptive statistics of numeric variables
telco_base_data.describe()





telco_base_data['Churn'].value_counts().plot(kind='barh', figsize=(8, 6))
plt.xlabel("Count", labelpad=14)
plt.ylabel("Target Variable", labelpad=14)
plt.title("Count of TARGET Variable per category", y=1.02)
plt.show()

# Percentage distribution of Churn variable
100 * telco_base_data['Churn'].value_counts() / len(telco_base_data['Churn'])






# Concise summary of dataframe
telco_base_data.info(verbose=True)

# Percentage of missing values
missing = pd.DataFrame((telco_base_data.isnull().sum()) * 100 / telco_base_data.shape[0]).reset_index()

# Plot missing values
plt.figure(figsize=(16,5))
ax = sns.pointplot(x='index', y=0, data=missing)
plt.xticks(rotation=90, fontsize=7)
plt.title("Percentage of Missing Values")
plt.ylabel("PERCENTAGE")
plt.show()








telco_data = telco_base_data.copy()





telco_data['TotalCharges'] = pd.to_numeric(telco_data['TotalCharges'], errors='coerce')

# Check missing values after conversion
telco_data.isnull().sum()





# Check records with missing values
telco_data.loc[telco_data['TotalCharges'].isnull() == True]

# Remove missing values
telco_data.dropna(how='any', inplace=True)





# Get maximum tenure
print(telco_data['tenure'].max())

# Define tenure groups
labels = ["{0} - {1}".format(i, i + 11) for i in range(1, 72, 12)]
telco_data['tenure_group'] = pd.cut(telco_data.tenure, range(1, 80, 12), right=False, labels=labels)

# Check distribution
telco_data['tenure_group'].value_counts()





telco_data.drop(columns=['customerID', 'tenure'], axis=1, inplace=True)
telco_data.head()








for i, predictor in enumerate(telco_data.drop(columns=['Churn', 'TotalCharges', 'MonthlyCharges'])):
    plt.figure(i)
    sns.countplot(data=telco_data, x=predictor, hue='Churn')
    plt.xticks(rotation=45)
    plt.show()





telco_data['Churn'] = np.where(telco_data['Churn'] == 'Yes', 1, 0)
telco_data.head()





telco_data_dummies = pd.get_dummies(telco_data)
telco_data_dummies.head()





sns.lmplot(data=telco_data_dummies, x='MonthlyCharges', y='TotalCharges', fit_reg=False)
plt.show()





Mth = sns.kdeplot(telco_data_dummies.MonthlyCharges[(telco_data_dummies["Churn"] == 0)], color="Red", shade=True)
Mth = sns.kdeplot(telco_data_dummies.MonthlyCharges[(telco_data_dummies["Churn"] == 1)], ax=Mth, color="Blue", shade=True)
Mth.legend(["No Churn", "Churn"], loc='upper right')
Mth.set_ylabel('Density')
Mth.set_xlabel('Monthly Charges')
Mth.set_title('Monthly Charges by Churn')
plt.show()


Tot = sns.kdeplot(telco_data_dummies.TotalCharges[(telco_data_dummies["Churn"] == 0)], color="Red", shade=True)
Tot = sns.kdeplot(telco_data_dummies.TotalCharges[(telco_data_dummies["Churn"] == 1)], ax=Tot, color="Blue", shade=True)
Tot.legend(["No Churn", "Churn"], loc='upper right')
Tot.set_ylabel('Density')
Tot.set_xlabel('Total Charges')
Tot.set_title('Total Charges by Churn')
plt.show()





plt.figure(figsize=(20,8))
telco_data_dummies.corr()['Churn'].sort_values(ascending=False).plot(kind='bar')
plt.show()

plt.figure(figsize=(12,12))
sns.heatmap(telco_data_dummies.corr(), cmap="Paired")
plt.show()





telco_data_dummies.to_csv('tel_churn.csv', index=False)








df = pd.read_csv("tel_churn.csv")
df.head()


# Drop unnecessary column
df = df.drop('Unnamed: 0', axis=1, errors='ignore')

# Define X and Y
x = df.drop('Churn', axis=1)
y = df['Churn']





from sklearn.model_selection import train_test_split

x_train, x_test, y_train, y_test = train_test_split(x, y, test_size=0.2)





from sklearn.tree import DecisionTreeClassifier
from sklearn.metrics import classification_report

model_dt = DecisionTreeClassifier(criterion="gini", random_state=100, max_depth=6, min_samples_leaf=8)
model_dt.fit(x_train, y_train)
y_pred = model_dt.predict(x_test)

print(classification_report(y_test, y_pred, labels=[0, 1]))





pip install --upgrade imbalanced-learn scikit-learn


from imblearn.combine import SMOTEENN

sm = SMOTEENN()
X_resampled, y_resampled = sm.fit_resample(x, y)
xr_train, xr_test, yr_train, yr_test = train_test_split(X_resampled, y_resampled, test_size=0.2)

model_dt_smote = DecisionTreeClassifier(criterion="gini", random_state=100, max_depth=6, min_samples_leaf=8)
model_dt_smote.fit(xr_train, yr_train)
yr_predict = model_dt_smote.predict(xr_test)

print(classification_report(yr_test, yr_predict))





from sklearn.ensemble import RandomForestClassifier

model_rf = RandomForestClassifier(n_estimators=100, criterion='gini', random_state=100, max_depth=6, min_samples_leaf=8)
model_rf.fit(x_train, y_train)
y_pred_rf = model_rf.predict(x_test)

print(classification_report(y_test, y_pred_rf))



